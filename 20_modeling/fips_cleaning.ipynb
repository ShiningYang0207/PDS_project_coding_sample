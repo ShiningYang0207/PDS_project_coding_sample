{
 "cells": [
  {
   "cell_type": "code",
   "execution_count": 9,
   "metadata": {},
   "outputs": [],
   "source": [
    "import pandas as pd\n",
    "import numpy as np\n",
    "from fastparquet import ParquetFile\n",
    "#import addfips"
   ]
  },
  {
   "cell_type": "code",
   "execution_count": 10,
   "metadata": {},
   "outputs": [
    {
     "data": {
      "text/html": [
       "<div>\n",
       "<style scoped>\n",
       "    .dataframe tbody tr th:only-of-type {\n",
       "        vertical-align: middle;\n",
       "    }\n",
       "\n",
       "    .dataframe tbody tr th {\n",
       "        vertical-align: top;\n",
       "    }\n",
       "\n",
       "    .dataframe thead th {\n",
       "        text-align: right;\n",
       "    }\n",
       "</style>\n",
       "<table border=\"1\" class=\"dataframe\">\n",
       "  <thead>\n",
       "    <tr style=\"text-align: right;\">\n",
       "      <th></th>\n",
       "      <th>fips</th>\n",
       "      <th>county_name</th>\n",
       "      <th>state_abbr</th>\n",
       "      <th>state_name</th>\n",
       "      <th>long_name</th>\n",
       "      <th>sumlev</th>\n",
       "      <th>region</th>\n",
       "      <th>division</th>\n",
       "      <th>state</th>\n",
       "      <th>county</th>\n",
       "      <th>crosswalk</th>\n",
       "      <th>region_name</th>\n",
       "      <th>division_name</th>\n",
       "    </tr>\n",
       "  </thead>\n",
       "  <tbody>\n",
       "    <tr>\n",
       "      <th>0</th>\n",
       "      <td>1001</td>\n",
       "      <td>AUTAUGA</td>\n",
       "      <td>AL</td>\n",
       "      <td>Alabama</td>\n",
       "      <td>Autauga County AL</td>\n",
       "      <td>50.0</td>\n",
       "      <td>3.0</td>\n",
       "      <td>6.0</td>\n",
       "      <td>1.0</td>\n",
       "      <td>1.0</td>\n",
       "      <td>3-6-1-1</td>\n",
       "      <td>South</td>\n",
       "      <td>East South Central</td>\n",
       "    </tr>\n",
       "    <tr>\n",
       "      <th>1</th>\n",
       "      <td>1003</td>\n",
       "      <td>BALDWIN</td>\n",
       "      <td>AL</td>\n",
       "      <td>Alabama</td>\n",
       "      <td>Baldwin County AL</td>\n",
       "      <td>50.0</td>\n",
       "      <td>3.0</td>\n",
       "      <td>6.0</td>\n",
       "      <td>1.0</td>\n",
       "      <td>3.0</td>\n",
       "      <td>3-6-1-3</td>\n",
       "      <td>South</td>\n",
       "      <td>East South Central</td>\n",
       "    </tr>\n",
       "    <tr>\n",
       "      <th>2</th>\n",
       "      <td>1005</td>\n",
       "      <td>BARBOUR</td>\n",
       "      <td>AL</td>\n",
       "      <td>Alabama</td>\n",
       "      <td>Barbour County AL</td>\n",
       "      <td>50.0</td>\n",
       "      <td>3.0</td>\n",
       "      <td>6.0</td>\n",
       "      <td>1.0</td>\n",
       "      <td>5.0</td>\n",
       "      <td>3-6-1-5</td>\n",
       "      <td>South</td>\n",
       "      <td>East South Central</td>\n",
       "    </tr>\n",
       "    <tr>\n",
       "      <th>3</th>\n",
       "      <td>1007</td>\n",
       "      <td>BIBB</td>\n",
       "      <td>AL</td>\n",
       "      <td>Alabama</td>\n",
       "      <td>Bibb County AL</td>\n",
       "      <td>50.0</td>\n",
       "      <td>3.0</td>\n",
       "      <td>6.0</td>\n",
       "      <td>1.0</td>\n",
       "      <td>7.0</td>\n",
       "      <td>3-6-1-7</td>\n",
       "      <td>South</td>\n",
       "      <td>East South Central</td>\n",
       "    </tr>\n",
       "    <tr>\n",
       "      <th>4</th>\n",
       "      <td>1009</td>\n",
       "      <td>BLOUNT</td>\n",
       "      <td>AL</td>\n",
       "      <td>Alabama</td>\n",
       "      <td>Blount County AL</td>\n",
       "      <td>50.0</td>\n",
       "      <td>3.0</td>\n",
       "      <td>6.0</td>\n",
       "      <td>1.0</td>\n",
       "      <td>9.0</td>\n",
       "      <td>3-6-1-9</td>\n",
       "      <td>South</td>\n",
       "      <td>East South Central</td>\n",
       "    </tr>\n",
       "  </tbody>\n",
       "</table>\n",
       "</div>"
      ],
      "text/plain": [
       "   fips county_name state_abbr state_name          long_name  sumlev  region  \\\n",
       "0  1001     AUTAUGA         AL    Alabama  Autauga County AL    50.0     3.0   \n",
       "1  1003     BALDWIN         AL    Alabama  Baldwin County AL    50.0     3.0   \n",
       "2  1005     BARBOUR         AL    Alabama  Barbour County AL    50.0     3.0   \n",
       "3  1007        BIBB         AL    Alabama     Bibb County AL    50.0     3.0   \n",
       "4  1009      BLOUNT         AL    Alabama   Blount County AL    50.0     3.0   \n",
       "\n",
       "   division  state  county crosswalk region_name       division_name  \n",
       "0       6.0    1.0     1.0   3-6-1-1       South  East South Central  \n",
       "1       6.0    1.0     3.0   3-6-1-3       South  East South Central  \n",
       "2       6.0    1.0     5.0   3-6-1-5       South  East South Central  \n",
       "3       6.0    1.0     7.0   3-6-1-7       South  East South Central  \n",
       "4       6.0    1.0     9.0   3-6-1-9       South  East South Central  "
      ]
     },
     "execution_count": 10,
     "metadata": {},
     "output_type": "execute_result"
    }
   ],
   "source": [
    "fips = pd.read_csv(\"https://raw.githubusercontent.com/kjhealy/fips-codes/master/county_fips_master.csv\", encoding=\"ISO-8859-1\")\n",
    "\n",
    "fips['county_name']= fips['county_name'].str[:-7]\n",
    "fips['county_name']= fips['county_name'].str.upper()\n",
    "\n",
    "fips.head()"
   ]
  },
  {
   "cell_type": "code",
   "execution_count": 15,
   "metadata": {},
   "outputs": [
    {
     "data": {
      "text/plain": [
       "array(['ALACHUA', 'BAKER', 'BAY', 'BRADFORD', 'BREVARD', 'BROWARD',\n",
       "       'CALHOUN', 'CHARLOTTE', 'CITRUS', 'CLAY', 'COLLIER', 'COLUMBIA',\n",
       "       'DESOTO', 'DIXIE', 'DUVAL', 'ESCAMBIA', 'FLAGLER', 'FRANKLIN',\n",
       "       'GADSDEN', 'GILCHRIST', 'GLADES', 'GULF', 'HAMILTON', 'HARDEE',\n",
       "       'HENDRY', 'HERNANDO', 'HIGHLANDS', 'HILLSBOROUGH', 'HOLMES',\n",
       "       'INDIAN RIVER', 'JACKSON', 'JEFFERSON', 'LAFAYETTE', 'LAKE', 'LEE',\n",
       "       'LEON', 'LEVY', 'LIBERTY', 'MADISON', 'MANATEE', 'MARION',\n",
       "       'MARTIN', 'MIAMI-DADE', 'MONROE', 'NASSAU', 'OKALOOSA',\n",
       "       'OKEECHOBEE', 'ORANGE', 'OSCEOLA', 'PALM BEACH', 'PASCO',\n",
       "       'PINELLAS', 'POLK', 'PUTNAM', 'ST. JOHNS', 'ST. LUCIE',\n",
       "       'SANTA ROSA', 'SARASOTA', 'SEMINOLE', 'SUMTER', 'SUWANNEE',\n",
       "       'TAYLOR', 'UNION', 'VOLUSIA', 'WAKULLA', 'WALTON', 'WASHINGTON'],\n",
       "      dtype=object)"
      ]
     },
     "execution_count": 15,
     "metadata": {},
     "output_type": "execute_result"
    }
   ],
   "source": [
    "fips[fips[\"state_abbr\"] == \"FL\"][\"county_name\"].unique()"
   ]
  },
  {
   "cell_type": "code",
   "execution_count": 16,
   "metadata": {},
   "outputs": [
    {
     "data": {
      "text/plain": [
       "array(['BERNALILLO', 'CATRON', 'CHAVES', 'CIBOLA', 'COLFAX', 'CURRY',\n",
       "       'DE BACA', 'DOÐA ANA', 'EDDY', 'GRANT', 'GUADALUPE', 'HARDING',\n",
       "       'HIDALGO', 'LEA', 'LINCOLN', 'LOS ALAMOS', 'LUNA', 'MCKINLEY',\n",
       "       'MORA', 'OTERO', 'QUAY', 'RIO ARRIBA', 'ROOSEVELT', 'SANDOVAL',\n",
       "       'SAN JUAN', 'SAN MIGUEL', 'SANTA FE', 'SIERRA', 'SOCORRO', 'TAOS',\n",
       "       'TORRANCE', 'UNION', 'VALENCIA'], dtype=object)"
      ]
     },
     "execution_count": 16,
     "metadata": {},
     "output_type": "execute_result"
    }
   ],
   "source": [
    "fips[fips[\"state_abbr\"] == \"NM\"][\"county_name\"].unique()"
   ]
  },
  {
   "cell_type": "code",
   "execution_count": 17,
   "metadata": {},
   "outputs": [
    {
     "data": {
      "text/plain": [
       "array(['ALACHUA', 'BAKER', 'BAY', 'BRADFORD', 'BREVARD', 'BROWARD',\n",
       "       'CALHOUN', 'CHARLOTTE', 'CITRUS', 'CLAY', 'COLLIER', 'COLUMBIA',\n",
       "       'DESOTO', 'DIXIE', 'DUVAL', 'ESCAMBIA', 'FLAGLER', 'FRANKLIN',\n",
       "       'GADSDEN', 'GILCHRIST', 'GLADES', 'GULF', 'HAMILTON', 'HARDEE',\n",
       "       'HENDRY', 'HERNANDO', 'HIGHLANDS', 'HILLSBOROUGH', 'HOLMES',\n",
       "       'INDIAN RIVER', 'JACKSON', 'JEFFERSON', 'LAFAYETTE', 'LAKE', 'LEE',\n",
       "       'LEON', 'LEVY', 'LIBERTY', 'MADISON', 'MANATEE', 'MARION',\n",
       "       'MARTIN', 'MIAMI-DADE', 'MONROE', 'NASSAU', 'OKALOOSA',\n",
       "       'OKEECHOBEE', 'ORANGE', 'OSCEOLA', 'PALM BEACH', 'PASCO',\n",
       "       'PINELLAS', 'POLK', 'PUTNAM', 'ST. JOHNS', 'ST. LUCIE',\n",
       "       'SANTA ROSA', 'SARASOTA', 'SEMINOLE', 'SUMTER', 'SUWANNEE',\n",
       "       'TAYLOR', 'UNION', 'VOLUSIA', 'WAKULLA', 'WALTON', 'WASHINGTON'],\n",
       "      dtype=object)"
      ]
     },
     "execution_count": 17,
     "metadata": {},
     "output_type": "execute_result"
    }
   ],
   "source": [
    "fips[fips[\"state_abbr\"] == \"FL\"][\"county_name\"].unique()"
   ]
  },
  {
   "cell_type": "code",
   "execution_count": 14,
   "metadata": {},
   "outputs": [
    {
     "data": {
      "text/plain": [
       "array(['ANDERSON', 'ANDREWS', 'ANGELINA', 'ARANSAS', 'ARCHER',\n",
       "       'ARMSTRONG', 'ATASCOSA', 'AUSTIN', 'BAILEY', 'BANDERA', 'BASTROP',\n",
       "       'BAYLOR', 'BEE', 'BELL', 'BEXAR', 'BLANCO', 'BORDEN', 'BOSQUE',\n",
       "       'BOWIE', 'BRAZORIA', 'BRAZOS', 'BREWSTER', 'BRISCOE', 'BROOKS',\n",
       "       'BROWN', 'BURLESON', 'BURNET', 'CALDWELL', 'CALHOUN', 'CALLAHAN',\n",
       "       'CAMERON', 'CAMP', 'CARSON', 'CASS', 'CASTRO', 'CHAMBERS',\n",
       "       'CHEROKEE', 'CHILDRESS', 'CLAY', 'COCHRAN', 'COKE', 'COLEMAN',\n",
       "       'COLLIN', 'COLLINGSWORTH', 'COLORADO', 'COMAL', 'COMANCHE',\n",
       "       'CONCHO', 'COOKE', 'CORYELL', 'COTTLE', 'CRANE', 'CROCKETT',\n",
       "       'CROSBY', 'CULBERSON', 'DALLAM', 'DALLAS', 'DAWSON', 'DEAF SMITH',\n",
       "       'DELTA', 'DENTON', 'DEWITT', 'DICKENS', 'DIMMIT', 'DONLEY',\n",
       "       'DUVAL', 'EASTLAND', 'ECTOR', 'EDWARDS', 'ELLIS', 'EL PASO',\n",
       "       'ERATH', 'FALLS', 'FANNIN', 'FAYETTE', 'FISHER', 'FLOYD', 'FOARD',\n",
       "       'FORT BEND', 'FRANKLIN', 'FREESTONE', 'FRIO', 'GAINES',\n",
       "       'GALVESTON', 'GARZA', 'GILLESPIE', 'GLASSCOCK', 'GOLIAD',\n",
       "       'GONZALES', 'GRAY', 'GRAYSON', 'GREGG', 'GRIMES', 'GUADALUPE',\n",
       "       'HALE', 'HALL', 'HAMILTON', 'HANSFORD', 'HARDEMAN', 'HARDIN',\n",
       "       'HARRIS', 'HARRISON', 'HARTLEY', 'HASKELL', 'HAYS', 'HEMPHILL',\n",
       "       'HENDERSON', 'HIDALGO', 'HILL', 'HOCKLEY', 'HOOD', 'HOPKINS',\n",
       "       'HOUSTON', 'HOWARD', 'HUDSPETH', 'HUNT', 'HUTCHINSON', 'IRION',\n",
       "       'JACK', 'JACKSON', 'JASPER', 'JEFF DAVIS', 'JEFFERSON', 'JIM HOGG',\n",
       "       'JIM WELLS', 'JOHNSON', 'JONES', 'KARNES', 'KAUFMAN', 'KENDALL',\n",
       "       'KENEDY', 'KENT', 'KERR', 'KIMBLE', 'KING', 'KINNEY', 'KLEBERG',\n",
       "       'KNOX', 'LAMAR', 'LAMB', 'LAMPASAS', 'LA SALLE', 'LAVACA', 'LEE',\n",
       "       'LEON', 'LIBERTY', 'LIMESTONE', 'LIPSCOMB', 'LIVE OAK', 'LLANO',\n",
       "       'LOVING', 'LUBBOCK', 'LYNN', 'MCCULLOCH', 'MCLENNAN', 'MCMULLEN',\n",
       "       'MADISON', 'MARION', 'MARTIN', 'MASON', 'MATAGORDA', 'MAVERICK',\n",
       "       'MEDINA', 'MENARD', 'MIDLAND', 'MILAM', 'MILLS', 'MITCHELL',\n",
       "       'MONTAGUE', 'MONTGOMERY', 'MOORE', 'MORRIS', 'MOTLEY',\n",
       "       'NACOGDOCHES', 'NAVARRO', 'NEWTON', 'NOLAN', 'NUECES', 'OCHILTREE',\n",
       "       'OLDHAM', 'ORANGE', 'PALO PINTO', 'PANOLA', 'PARKER', 'PARMER',\n",
       "       'PECOS', 'POLK', 'POTTER', 'PRESIDIO', 'RAINS', 'RANDALL',\n",
       "       'REAGAN', 'REAL', 'RED RIVER', 'REEVES', 'REFUGIO', 'ROBERTS',\n",
       "       'ROBERTSON', 'ROCKWALL', 'RUNNELS', 'RUSK', 'SABINE',\n",
       "       'SAN AUGUSTINE', 'SAN JACINTO', 'SAN PATRICIO', 'SAN SABA',\n",
       "       'SCHLEICHER', 'SCURRY', 'SHACKELFORD', 'SHELBY', 'SHERMAN',\n",
       "       'SMITH', 'SOMERVELL', 'STARR', 'STEPHENS', 'STERLING', 'STONEWALL',\n",
       "       'SUTTON', 'SWISHER', 'TARRANT', 'TAYLOR', 'TERRELL', 'TERRY',\n",
       "       'THROCKMORTON', 'TITUS', 'TOM GREEN', 'TRAVIS', 'TRINITY', 'TYLER',\n",
       "       'UPSHUR', 'UPTON', 'UVALDE', 'VAL VERDE', 'VAN ZANDT', 'VICTORIA',\n",
       "       'WALKER', 'WALLER', 'WARD', 'WASHINGTON', 'WEBB', 'WHARTON',\n",
       "       'WHEELER', 'WICHITA', 'WILBARGER', 'WILLACY', 'WILLIAMSON',\n",
       "       'WILSON', 'WINKLER', 'WISE', 'WOOD', 'YOAKUM', 'YOUNG', 'ZAPATA',\n",
       "       'ZAVALA'], dtype=object)"
      ]
     },
     "execution_count": 14,
     "metadata": {},
     "output_type": "execute_result"
    }
   ],
   "source": [
    "fips[fips[\"state_abbr\"] == \"TX\"][\"county_name\"].unique()"
   ]
  },
  {
   "cell_type": "code",
   "execution_count": 11,
   "metadata": {},
   "outputs": [
    {
     "data": {
      "text/html": [
       "<div>\n",
       "<style scoped>\n",
       "    .dataframe tbody tr th:only-of-type {\n",
       "        vertical-align: middle;\n",
       "    }\n",
       "\n",
       "    .dataframe tbody tr th {\n",
       "        vertical-align: top;\n",
       "    }\n",
       "\n",
       "    .dataframe thead th {\n",
       "        text-align: right;\n",
       "    }\n",
       "</style>\n",
       "<table border=\"1\" class=\"dataframe\">\n",
       "  <thead>\n",
       "    <tr style=\"text-align: right;\">\n",
       "      <th></th>\n",
       "      <th>BUYER_STATE</th>\n",
       "      <th>BUYER_COUNTY</th>\n",
       "      <th>year</th>\n",
       "      <th>MME</th>\n",
       "    </tr>\n",
       "  </thead>\n",
       "  <tbody>\n",
       "    <tr>\n",
       "      <th>5973</th>\n",
       "      <td>SC</td>\n",
       "      <td>BAMBERG</td>\n",
       "      <td>2009</td>\n",
       "      <td>4.813056e+06</td>\n",
       "    </tr>\n",
       "    <tr>\n",
       "      <th>7616</th>\n",
       "      <td>TX</td>\n",
       "      <td>MCCULLOCH</td>\n",
       "      <td>2006</td>\n",
       "      <td>1.658762e+06</td>\n",
       "    </tr>\n",
       "    <tr>\n",
       "      <th>6550</th>\n",
       "      <td>TX</td>\n",
       "      <td>BURLESON</td>\n",
       "      <td>2007</td>\n",
       "      <td>1.207297e+06</td>\n",
       "    </tr>\n",
       "    <tr>\n",
       "      <th>8691</th>\n",
       "      <td>WA</td>\n",
       "      <td>WAHKIAKUM</td>\n",
       "      <td>2006</td>\n",
       "      <td>1.004054e+06</td>\n",
       "    </tr>\n",
       "    <tr>\n",
       "      <th>8660</th>\n",
       "      <td>WA</td>\n",
       "      <td>SNOHOMISH</td>\n",
       "      <td>2011</td>\n",
       "      <td>3.283056e+08</td>\n",
       "    </tr>\n",
       "    <tr>\n",
       "      <th>6189</th>\n",
       "      <td>SC</td>\n",
       "      <td>LANCASTER</td>\n",
       "      <td>2009</td>\n",
       "      <td>2.431174e+07</td>\n",
       "    </tr>\n",
       "    <tr>\n",
       "      <th>6253</th>\n",
       "      <td>SC</td>\n",
       "      <td>NEWBERRY</td>\n",
       "      <td>2010</td>\n",
       "      <td>9.509778e+06</td>\n",
       "    </tr>\n",
       "    <tr>\n",
       "      <th>2638</th>\n",
       "      <td>ID</td>\n",
       "      <td>BONNER</td>\n",
       "      <td>2010</td>\n",
       "      <td>1.549712e+07</td>\n",
       "    </tr>\n",
       "    <tr>\n",
       "      <th>1086</th>\n",
       "      <td>FL</td>\n",
       "      <td>SAINT JOHNS</td>\n",
       "      <td>2006</td>\n",
       "      <td>4.366608e+07</td>\n",
       "    </tr>\n",
       "    <tr>\n",
       "      <th>7910</th>\n",
       "      <td>TX</td>\n",
       "      <td>ROBERTSON</td>\n",
       "      <td>2010</td>\n",
       "      <td>1.641255e+06</td>\n",
       "    </tr>\n",
       "  </tbody>\n",
       "</table>\n",
       "</div>"
      ],
      "text/plain": [
       "     BUYER_STATE BUYER_COUNTY  year           MME\n",
       "5973          SC      BAMBERG  2009  4.813056e+06\n",
       "7616          TX    MCCULLOCH  2006  1.658762e+06\n",
       "6550          TX     BURLESON  2007  1.207297e+06\n",
       "8691          WA    WAHKIAKUM  2006  1.004054e+06\n",
       "8660          WA    SNOHOMISH  2011  3.283056e+08\n",
       "6189          SC    LANCASTER  2009  2.431174e+07\n",
       "6253          SC     NEWBERRY  2010  9.509778e+06\n",
       "2638          ID       BONNER  2010  1.549712e+07\n",
       "1086          FL  SAINT JOHNS  2006  4.366608e+07\n",
       "7910          TX    ROBERTSON  2010  1.641255e+06"
      ]
     },
     "execution_count": 11,
     "metadata": {},
     "output_type": "execute_result"
    }
   ],
   "source": [
    "opi_data = pd.read_parquet(\"/Users/yangshining/pds2021-opioids-pds6/10_modified_data/opioid_whole_final.parquet\", engine = 'fastparquet')\n",
    "opi_data.sample(10)"
   ]
  },
  {
   "cell_type": "code",
   "execution_count": 24,
   "metadata": {},
   "outputs": [
    {
     "data": {
      "text/plain": [
       "array(['ALACHUA', 'BAKER', 'BAY', 'BRADFORD', 'BREVARD', 'BROWARD',\n",
       "       'CALHOUN', 'CHARLOTTE', 'CITRUS', 'CLAY', 'COLLIER', 'COLUMBIA',\n",
       "       'DIXIE', 'DUVAL', 'ESCAMBIA', 'FLAGLER', 'FRANKLIN', 'GILCHRIST',\n",
       "       'HENDRY', 'HERNANDO', 'HIGHLANDS', 'HILLSBOROUGH', 'HOLMES',\n",
       "       'INDIAN RIVER', 'JACKSON', 'JEFFERSON', 'LAFAYETTE', 'LAKE', 'LEE',\n",
       "       'LEON', 'LEVY', 'MANATEE', 'MARION', 'MARTIN', 'MIAMI-DADE',\n",
       "       'MONROE', 'NASSAU', 'OKALOOSA', 'OKEECHOBEE', 'ORANGE', 'OSCEOLA',\n",
       "       'PALM BEACH', 'PASCO', 'PINELLAS', 'POLK', 'PUTNAM', 'ST. JOHNS',\n",
       "       'ST. LUCIE', 'SANTA ROSA', 'SARASOTA', 'SEMINOLE', 'SUMTER',\n",
       "       'TAYLOR', 'VOLUSIA', 'WASHINGTON', 'HAMILTON', 'UNION', 'WALTON',\n",
       "       'DE SOTO', 'GADSDEN', 'HARDEE', 'SUWANNEE', 'WAKULLA', 'MADISON',\n",
       "       'GULF', 'LIBERTY', 'GLADES'], dtype=object)"
      ]
     },
     "execution_count": 24,
     "metadata": {},
     "output_type": "execute_result"
    }
   ],
   "source": [
    "la=opi_data[opi_data[\"BUYER_STATE\"]==\"FL\"]\n",
    "la[\"BUYER_COUNTY\"].unique()"
   ]
  },
  {
   "cell_type": "code",
   "execution_count": 21,
   "metadata": {},
   "outputs": [
    {
     "data": {
      "text/plain": [
       "array(['BERNALILLO', 'CHAVES', 'CIBOLA', 'CURRY', 'DE BACA', 'DONA ANA',\n",
       "       'EDDY', 'GRANT', 'LEA', 'LINCOLN', 'LOS ALAMOS', 'LUNA',\n",
       "       'MCKINLEY', 'OTERO', 'RIO ARRIBA', 'SAN JUAN', 'SAN MIGUEL',\n",
       "       'SANDOVAL', 'SANTA FE', 'SIERRA', 'SOCORRO', 'TAOS', 'TORRANCE',\n",
       "       'VALENCIA', 'COLFAX', 'GUADALUPE', 'HIDALGO', 'ROOSEVELT', 'QUAY',\n",
       "       'UNION', 'CATRON'], dtype=object)"
      ]
     },
     "execution_count": 21,
     "metadata": {},
     "output_type": "execute_result"
    }
   ],
   "source": [
    "nm=opi_data[opi_data[\"BUYER_STATE\"]==\"NM\"]\n",
    "nm[\"BUYER_COUNTY\"].unique()"
   ]
  },
  {
   "cell_type": "code",
   "execution_count": 15,
   "metadata": {},
   "outputs": [],
   "source": [
    "# Fix ST JOHN THE BAPTIST\n",
    "opi_data['BUYER_COUNTY'] = np.where(opi_data[\"BUYER_COUNTY\"].str[:3] == \"ST \", \"ST. \" + opi_data[\"BUYER_COUNTY\"].str[3:] , opi_data[\"BUYER_COUNTY\"])\n",
    "\n",
    "# Fix SAINT\n",
    "\n",
    "opi_data['BUYER_COUNTY'] = np.where(opi_data[\"BUYER_COUNTY\"].str[:6] == \"SAINT \", \"ST. \" + opi_data[\"BUYER_COUNTY\"].str[6:] , opi_data[\"BUYER_COUNTY\"])\n",
    "\n",
    "#Fix DONA ANA\n",
    "\n",
    "fips['county_name'] = np.where(fips['county_name'] == \"DOÐA ANA\", \"DONA ANA\" , fips['county_name'])\n",
    "\n",
    "# Fix DE SOTO\n",
    "opi_data['BUYER_COUNTY'] = np.where(opi_data[\"BUYER_COUNTY\"] == \"DE SOTO\", \"DESOTO\" , opi_data[\"BUYER_COUNTY\"])\n",
    "fips['county_name'] = np.where(fips['county_name'] == \"DE SOTO\", \"DESOTO\" , fips['county_name'])\n",
    "\n",
    "# Fix DE KALB\n",
    "opi_data['BUYER_COUNTY'] = np.where(opi_data[\"BUYER_COUNTY\"] == \"DE KALB\", \"DEKALB\" , opi_data[\"BUYER_COUNTY\"])\n",
    "\n",
    "# Fix DE WITT\n",
    "opi_data['BUYER_COUNTY'] = np.where(opi_data[\"BUYER_COUNTY\"] == \"DE WITT\", \"DEWITT\" , opi_data[\"BUYER_COUNTY\"])\n"
   ]
  },
  {
   "cell_type": "code",
   "execution_count": 16,
   "metadata": {},
   "outputs": [
    {
     "data": {
      "text/html": [
       "<div>\n",
       "<style scoped>\n",
       "    .dataframe tbody tr th:only-of-type {\n",
       "        vertical-align: middle;\n",
       "    }\n",
       "\n",
       "    .dataframe tbody tr th {\n",
       "        vertical-align: top;\n",
       "    }\n",
       "\n",
       "    .dataframe thead th {\n",
       "        text-align: right;\n",
       "    }\n",
       "</style>\n",
       "<table border=\"1\" class=\"dataframe\">\n",
       "  <thead>\n",
       "    <tr style=\"text-align: right;\">\n",
       "      <th></th>\n",
       "      <th>county_name</th>\n",
       "      <th>state_abbr</th>\n",
       "      <th>fips</th>\n",
       "      <th>BUYER_STATE</th>\n",
       "      <th>BUYER_COUNTY</th>\n",
       "      <th>year</th>\n",
       "      <th>MME</th>\n",
       "    </tr>\n",
       "  </thead>\n",
       "  <tbody>\n",
       "  </tbody>\n",
       "</table>\n",
       "</div>"
      ],
      "text/plain": [
       "Empty DataFrame\n",
       "Columns: [county_name, state_abbr, fips, BUYER_STATE, BUYER_COUNTY, year, MME]\n",
       "Index: []"
      ]
     },
     "execution_count": 16,
     "metadata": {},
     "output_type": "execute_result"
    }
   ],
   "source": [
    "fips_sub = fips[[\"county_name\", \"state_abbr\", \"fips\"]]\n",
    "\n",
    "opi_merge = pd.merge(fips_sub, opi_data, how = \"right\",left_on = [\"state_abbr\", \"county_name\"], right_on=[\"BUYER_STATE\", \"BUYER_COUNTY\"])\n",
    "\n",
    "#opi_merge2 = opi_merge.drop(columns=[\"BUYER_COUNTY\", \"BUYER_STATE\"])\n",
    "\n",
    "opi_merge[opi_merge[\"fips\"].isna()]\n",
    "\n",
    "#opi_merge[opi_merge[\"fips\"].isna()][\"BUYER_STATE\"].unique()\n",
    "# opi_merge2['fips'].astype(int)"
   ]
  },
  {
   "cell_type": "code",
   "execution_count": 17,
   "metadata": {},
   "outputs": [],
   "source": [
    "# Save it to parquet\n",
    "\n",
    "opi_merge.to_parquet(\"/Users/yangshining/pds2021-opioids-pds6/10_modified_data/opi_merge_final.parquet\", \n",
    "engine = 'fastparquet')"
   ]
  }
 ],
 "metadata": {
  "interpreter": {
   "hash": "9187b5666a5a3d04f2c74cd06b2af6f40fb3af58e398847229b96a5acbbf62ce"
  },
  "kernelspec": {
   "display_name": "Python 3.9.6 64-bit ('base': conda)",
   "name": "python3"
  },
  "language_info": {
   "codemirror_mode": {
    "name": "ipython",
    "version": 3
   },
   "file_extension": ".py",
   "mimetype": "text/x-python",
   "name": "python",
   "nbconvert_exporter": "python",
   "pygments_lexer": "ipython3",
   "version": "3.9.6"
  },
  "orig_nbformat": 4
 },
 "nbformat": 4,
 "nbformat_minor": 2
}
