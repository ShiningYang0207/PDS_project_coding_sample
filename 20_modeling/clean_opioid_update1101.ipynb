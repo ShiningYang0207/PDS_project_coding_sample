{
 "cells": [
  {
   "cell_type": "code",
   "execution_count": 1,
   "metadata": {},
   "outputs": [],
   "source": [
    "import pandas as pd\n",
    "import numpy as np\n",
    "import gzip\n",
    "import os\n",
    "import glob"
   ]
  },
  {
   "cell_type": "markdown",
   "metadata": {},
   "source": [
    "## Data cleaning"
   ]
  },
  {
   "cell_type": "markdown",
   "metadata": {},
   "source": [
    "### Looping over every zipped state data and read as csv"
   ]
  },
  {
   "cell_type": "code",
   "execution_count": 4,
   "metadata": {},
   "outputs": [
    {
     "name": "stderr",
     "output_type": "stream",
     "text": [
      "/Users/yangshining/opt/miniconda3/lib/python3.9/site-packages/IPython/core/interactiveshell.py:3441: FutureWarning: The error_bad_lines argument has been deprecated and will be removed in a future version.\n",
      "\n",
      "\n",
      "  exec(code_obj, self.user_global_ns, self.user_ns)\n"
     ]
    },
    {
     "name": "stdout",
     "output_type": "stream",
     "text": [
      "5984\n"
     ]
    },
    {
     "data": {
      "text/plain": [
       "GA    1366\n",
       "MS     729\n",
       "OK     693\n",
       "AL     603\n",
       "FL     600\n",
       "LA     571\n",
       "MT     430\n",
       "SC     414\n",
       "OR     312\n",
       "NM     266\n",
       "Name: BUYER_STATE, dtype: int64"
      ]
     },
     "execution_count": 4,
     "metadata": {},
     "output_type": "execute_result"
    }
   ],
   "source": [
    "\n",
    "zipfiles = \"/Users/yangshining/Desktop/2021 fall @duke/IDS 720/mid-sem project/data/opioid_shipment/*.gz\"\n",
    "\n",
    "filelist = glob.glob(zipfiles)\n",
    "\n",
    "select_data = []\n",
    "\n",
    "for gzfile in filelist:\n",
    "    raw = pd.read_csv(gzfile, iterator= True, chunksize = 10000, compression='gzip', error_bad_lines=False)\n",
    "\n",
    "\n",
    "    for df in raw:\n",
    "\n",
    "        df[\"TRANSACTION_DATE1\"] = pd.to_datetime(df[\"TRANSACTION_DATE\"], format='%m%d%Y')\n",
    "\n",
    "        df[\"year\"] = pd.DatetimeIndex(df[\"TRANSACTION_DATE1\"]).year\n",
    "\n",
    "        df = df[[\"BUYER_COUNTY\", \"BUYER_STATE\", \"year\", \"MME\"]]\n",
    "\n",
    "        select_data.append(df)\n",
    "\n",
    "\n",
    "\n",
    "whole_data = pd.concat(select_data)\n",
    "\n",
    "grouped = whole_data.groupby([\"BUYER_STATE\", \"BUYER_COUNTY\", \"year\"], as_index=False).sum(\"MME\")\n",
    "\n",
    "\n",
    "\n",
    "# Test if the data is correctly loaded\n",
    "\n",
    "print(len(grouped))\n",
    "\n",
    "grouped[\"BUYER_STATE\"].value_counts()"
   ]
  },
  {
   "cell_type": "code",
   "execution_count": 5,
   "metadata": {},
   "outputs": [
    {
     "data": {
      "text/html": [
       "<div>\n",
       "<style scoped>\n",
       "    .dataframe tbody tr th:only-of-type {\n",
       "        vertical-align: middle;\n",
       "    }\n",
       "\n",
       "    .dataframe tbody tr th {\n",
       "        vertical-align: top;\n",
       "    }\n",
       "\n",
       "    .dataframe thead th {\n",
       "        text-align: right;\n",
       "    }\n",
       "</style>\n",
       "<table border=\"1\" class=\"dataframe\">\n",
       "  <thead>\n",
       "    <tr style=\"text-align: right;\">\n",
       "      <th></th>\n",
       "      <th>BUYER_STATE</th>\n",
       "      <th>BUYER_COUNTY</th>\n",
       "      <th>year</th>\n",
       "      <th>MME</th>\n",
       "    </tr>\n",
       "  </thead>\n",
       "  <tbody>\n",
       "    <tr>\n",
       "      <th>4299</th>\n",
       "      <td>NM</td>\n",
       "      <td>BERNALILLO</td>\n",
       "      <td>2006</td>\n",
       "      <td>1.915714e+08</td>\n",
       "    </tr>\n",
       "  </tbody>\n",
       "</table>\n",
       "</div>"
      ],
      "text/plain": [
       "     BUYER_STATE BUYER_COUNTY  year           MME\n",
       "4299          NM   BERNALILLO  2006  1.915714e+08"
      ]
     },
     "execution_count": 5,
     "metadata": {},
     "output_type": "execute_result"
    }
   ],
   "source": [
    "grouped[(grouped[\"year\"]==2006)& (grouped[\"BUYER_COUNTY\"]==\"BERNALILLO\")]"
   ]
  },
  {
   "cell_type": "markdown",
   "metadata": {},
   "source": [
    "### Store data in parquet form"
   ]
  },
  {
   "cell_type": "code",
   "execution_count": 6,
   "metadata": {},
   "outputs": [],
   "source": [
    "grouped.to_parquet('/Users/yangshining/pds2021-opioids-pds6/10_modified_data/opioid_whole_final', engine='fastparquet')"
   ]
  },
  {
   "cell_type": "code",
   "execution_count": 3,
   "metadata": {},
   "outputs": [
    {
     "data": {
      "text/html": [
       "<div>\n",
       "<style scoped>\n",
       "    .dataframe tbody tr th:only-of-type {\n",
       "        vertical-align: middle;\n",
       "    }\n",
       "\n",
       "    .dataframe tbody tr th {\n",
       "        vertical-align: top;\n",
       "    }\n",
       "\n",
       "    .dataframe thead th {\n",
       "        text-align: right;\n",
       "    }\n",
       "</style>\n",
       "<table border=\"1\" class=\"dataframe\">\n",
       "  <thead>\n",
       "    <tr style=\"text-align: right;\">\n",
       "      <th></th>\n",
       "      <th>BUYER_COUNTY</th>\n",
       "      <th>BUYER_STATE</th>\n",
       "      <th>year</th>\n",
       "      <th>MME</th>\n",
       "    </tr>\n",
       "    <tr>\n",
       "      <th>index</th>\n",
       "      <th></th>\n",
       "      <th></th>\n",
       "      <th></th>\n",
       "      <th></th>\n",
       "    </tr>\n",
       "  </thead>\n",
       "  <tbody>\n",
       "    <tr>\n",
       "      <th>0</th>\n",
       "      <td>BERNALILLO</td>\n",
       "      <td>NM</td>\n",
       "      <td>2006</td>\n",
       "      <td>8.945369e+05</td>\n",
       "    </tr>\n",
       "    <tr>\n",
       "      <th>0</th>\n",
       "      <td>BERNALILLO</td>\n",
       "      <td>NM</td>\n",
       "      <td>2006</td>\n",
       "      <td>1.174579e+06</td>\n",
       "    </tr>\n",
       "    <tr>\n",
       "      <th>0</th>\n",
       "      <td>BERNALILLO</td>\n",
       "      <td>NM</td>\n",
       "      <td>2006</td>\n",
       "      <td>4.902307e+05</td>\n",
       "    </tr>\n",
       "    <tr>\n",
       "      <th>0</th>\n",
       "      <td>BERNALILLO</td>\n",
       "      <td>NM</td>\n",
       "      <td>2006</td>\n",
       "      <td>1.951027e+06</td>\n",
       "    </tr>\n",
       "    <tr>\n",
       "      <th>0</th>\n",
       "      <td>BERNALILLO</td>\n",
       "      <td>NM</td>\n",
       "      <td>2006</td>\n",
       "      <td>2.401950e+06</td>\n",
       "    </tr>\n",
       "    <tr>\n",
       "      <th>...</th>\n",
       "      <td>...</td>\n",
       "      <td>...</td>\n",
       "      <td>...</td>\n",
       "      <td>...</td>\n",
       "    </tr>\n",
       "    <tr>\n",
       "      <th>0</th>\n",
       "      <td>BERNALILLO</td>\n",
       "      <td>NM</td>\n",
       "      <td>2006</td>\n",
       "      <td>2.483118e+06</td>\n",
       "    </tr>\n",
       "    <tr>\n",
       "      <th>0</th>\n",
       "      <td>BERNALILLO</td>\n",
       "      <td>NM</td>\n",
       "      <td>2006</td>\n",
       "      <td>1.227908e+06</td>\n",
       "    </tr>\n",
       "    <tr>\n",
       "      <th>0</th>\n",
       "      <td>BERNALILLO</td>\n",
       "      <td>NM</td>\n",
       "      <td>2006</td>\n",
       "      <td>1.108440e+06</td>\n",
       "    </tr>\n",
       "    <tr>\n",
       "      <th>0</th>\n",
       "      <td>BERNALILLO</td>\n",
       "      <td>NM</td>\n",
       "      <td>2006</td>\n",
       "      <td>8.469772e+05</td>\n",
       "    </tr>\n",
       "    <tr>\n",
       "      <th>0</th>\n",
       "      <td>BERNALILLO</td>\n",
       "      <td>NM</td>\n",
       "      <td>2006</td>\n",
       "      <td>1.513500e+03</td>\n",
       "    </tr>\n",
       "  </tbody>\n",
       "</table>\n",
       "<p>155 rows × 4 columns</p>\n",
       "</div>"
      ],
      "text/plain": [
       "      BUYER_COUNTY BUYER_STATE  year           MME\n",
       "index                                             \n",
       "0       BERNALILLO          NM  2006  8.945369e+05\n",
       "0       BERNALILLO          NM  2006  1.174579e+06\n",
       "0       BERNALILLO          NM  2006  4.902307e+05\n",
       "0       BERNALILLO          NM  2006  1.951027e+06\n",
       "0       BERNALILLO          NM  2006  2.401950e+06\n",
       "...            ...         ...   ...           ...\n",
       "0       BERNALILLO          NM  2006  2.483118e+06\n",
       "0       BERNALILLO          NM  2006  1.227908e+06\n",
       "0       BERNALILLO          NM  2006  1.108440e+06\n",
       "0       BERNALILLO          NM  2006  8.469772e+05\n",
       "0       BERNALILLO          NM  2006  1.513500e+03\n",
       "\n",
       "[155 rows x 4 columns]"
      ]
     },
     "execution_count": 3,
     "metadata": {},
     "output_type": "execute_result"
    }
   ],
   "source": [
    "# Test stuff (Don't run!!!!!!)\n",
    "test = pd.read_parquet(\"/Users/yangshining/pds2021-opioids-pds6/10_modified_data/opioid_whole.parquet\", engine='fastparquet')\n",
    "\n",
    "test[(test[\"year\"]==2006)& (test[\"BUYER_COUNTY\"]==\"BERNALILLO\")]\n"
   ]
  }
 ],
 "metadata": {
  "interpreter": {
   "hash": "9187b5666a5a3d04f2c74cd06b2af6f40fb3af58e398847229b96a5acbbf62ce"
  },
  "kernelspec": {
   "display_name": "Python 3.9.6 64-bit ('base': conda)",
   "name": "python3"
  },
  "language_info": {
   "codemirror_mode": {
    "name": "ipython",
    "version": 3
   },
   "file_extension": ".py",
   "mimetype": "text/x-python",
   "name": "python",
   "nbconvert_exporter": "python",
   "pygments_lexer": "ipython3",
   "version": "3.9.6"
  },
  "orig_nbformat": 4
 },
 "nbformat": 4,
 "nbformat_minor": 2
}
