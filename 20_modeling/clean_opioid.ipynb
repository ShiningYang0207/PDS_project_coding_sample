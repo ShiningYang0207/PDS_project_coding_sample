{
 "cells": [
  {
   "cell_type": "code",
   "execution_count": 6,
   "metadata": {},
   "outputs": [],
   "source": [
    "import pandas as pd\n",
    "import numpy as np\n",
    "import gzip\n",
    "import os\n",
    "import glob"
   ]
  },
  {
   "cell_type": "markdown",
   "metadata": {},
   "source": [
    "## Data cleaning"
   ]
  },
  {
   "cell_type": "markdown",
   "metadata": {},
   "source": [
    "### Looping over every zipped state data and read as csv"
   ]
  },
  {
   "cell_type": "code",
   "execution_count": 30,
   "metadata": {},
   "outputs": [
    {
     "name": "stderr",
     "output_type": "stream",
     "text": [
      "/Users/yangshining/opt/miniconda3/lib/python3.9/site-packages/IPython/core/interactiveshell.py:3441: FutureWarning: The error_bad_lines argument has been deprecated and will be removed in a future version.\n",
      "\n",
      "\n",
      "  exec(code_obj, self.user_global_ns, self.user_ns)\n"
     ]
    },
    {
     "name": "stdout",
     "output_type": "stream",
     "text": [
      "1965604\n"
     ]
    },
    {
     "data": {
      "text/plain": [
       "FL    514367\n",
       "GA    497486\n",
       "AL    207252\n",
       "OK    170215\n",
       "LA    166679\n",
       "MS    138045\n",
       "SC    130671\n",
       "OR     80768\n",
       "NM     32845\n",
       "MT     27276\n",
       "Name: BUYER_STATE, dtype: int64"
      ]
     },
     "execution_count": 30,
     "metadata": {},
     "output_type": "execute_result"
    }
   ],
   "source": [
    "\n",
    "zipfiles = \"/Users/yangshining/Desktop/2021 fall @duke/IDS 720/mid-sem project/data/opioid_shipment/*.gz\"\n",
    "\n",
    "filelist = glob.glob(zipfiles)\n",
    "\n",
    "select_data = []\n",
    "\n",
    "for gzfile in filelist:\n",
    "    raw = pd.read_csv(gzfile, iterator= True, chunksize = 10000, compression='gzip', error_bad_lines=False)\n",
    "\n",
    "\n",
    "    for df in raw:\n",
    "\n",
    "        df[\"TRANSACTION_DATE1\"] = pd.to_datetime(df[\"TRANSACTION_DATE\"], format='%m%d%Y')\n",
    "\n",
    "        df[\"year\"] = pd.DatetimeIndex(df[\"TRANSACTION_DATE1\"]).year\n",
    "\n",
    "        group_df = df.groupby([\"BUYER_STATE\", \"BUYER_COUNTY\", \"year\"], as_index=False).sum(\"MME\")\n",
    "\n",
    "        group_df = group_df[[\"BUYER_COUNTY\", \"BUYER_STATE\", \"year\", \"MME\"]]\n",
    "\n",
    "        select_data.append(group_df)\n",
    "\n",
    "\n",
    "\n",
    "whole_data = pd.concat(select_data)\n",
    "\n",
    "\n",
    "# Test if the data is correctly loaded\n",
    "\n",
    "print(len(whole_data))\n",
    "\n",
    "whole_data[\"BUYER_STATE\"].value_counts()"
   ]
  },
  {
   "cell_type": "markdown",
   "metadata": {},
   "source": [
    "### Store data in parquet form"
   ]
  },
  {
   "cell_type": "code",
   "execution_count": 31,
   "metadata": {},
   "outputs": [],
   "source": [
    "whole_data.to_parquet('/Users/yangshining/Desktop/2021 fall @duke/IDS 720/mid-sem project/data/opioid_parquet/opioid_whole.parquet', engine='fastparquet')"
   ]
  }
 ],
 "metadata": {
  "interpreter": {
   "hash": "9187b5666a5a3d04f2c74cd06b2af6f40fb3af58e398847229b96a5acbbf62ce"
  },
  "kernelspec": {
   "display_name": "Python 3.9.6 64-bit ('base': conda)",
   "name": "python3"
  },
  "language_info": {
   "codemirror_mode": {
    "name": "ipython",
    "version": 3
   },
   "file_extension": ".py",
   "mimetype": "text/x-python",
   "name": "python",
   "nbconvert_exporter": "python",
   "pygments_lexer": "ipython3",
   "version": "3.9.6"
  },
  "orig_nbformat": 4
 },
 "nbformat": 4,
 "nbformat_minor": 2
}
